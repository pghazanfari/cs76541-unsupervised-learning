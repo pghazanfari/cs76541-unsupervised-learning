{
 "cells": [
  {
   "cell_type": "code",
   "execution_count": 1,
   "id": "91856f91",
   "metadata": {},
   "outputs": [],
   "source": [
    "import numpy as np\n",
    "import matplotlib.pyplot as plt\n",
    "import pandas as pd\n",
    "\n",
    "import pytorch_lightning as pl\n",
    "import torch\n",
    "import torch.nn as nn\n",
    "import torch.nn.functional as F\n",
    "\n",
    "from sklearn.cluster import KMeans\n",
    "\n",
    "import heartdisease\n",
    "\n",
    "rng = 104582"
   ]
  },
  {
   "cell_type": "code",
   "execution_count": 2,
   "id": "af3601c3",
   "metadata": {},
   "outputs": [
    {
     "name": "stdout",
     "output_type": "stream",
     "text": [
      "        Age  RestingBP  Cholesterol  FastingBS     MaxHR   Oldpeak    IsMale  \\\n",
      "0 -1.433140   0.328423     0.567911  -0.551341  1.382928 -0.855375  0.515952   \n",
      "1 -0.478484   0.964113     0.348389  -0.551341  0.754157  0.224868 -1.938163   \n",
      "2 -1.751359  -0.024121     0.558175  -0.551341 -1.525138 -0.855375  0.515952   \n",
      "3 -0.584556   0.259958     0.428555  -0.551341 -1.132156  0.679595 -1.938163   \n",
      "4  0.051881   0.656800     0.385467  -0.551341 -0.581981 -0.855375  0.515952   \n",
      "\n",
      "   HasExerciseAngina  ChestPainType_TA  ChestPainType_ATA  ChestPainType_NAP  \\\n",
      "0          -0.823556         -0.229679           2.075177          -0.532838   \n",
      "1          -0.823556         -0.229679          -0.481887           1.876744   \n",
      "2          -0.823556         -0.229679           2.075177          -0.532838   \n",
      "3           1.214246         -0.229679          -0.481887          -0.532838   \n",
      "4          -0.823556         -0.229679          -0.481887           1.876744   \n",
      "\n",
      "   RestingECG_ST  RestingECG_LVH  IsSTSlope_Up  IsSTSlope_Down  HeartDisease  \n",
      "0      -0.490449       -0.507478      1.150674       -0.271448             0  \n",
      "1      -0.490449       -0.507478     -0.869056       -0.271448             1  \n",
      "2       2.038947       -0.507478      1.150674       -0.271448             0  \n",
      "3      -0.490449       -0.507478     -0.869056       -0.271448             1  \n",
      "4      -0.490449       -0.507478      1.150674       -0.271448             0  \n"
     ]
    }
   ],
   "source": [
    "df_X, df_y = heartdisease.load_dataset()\n",
    "df = pd.concat([df_X, df_y], axis=1)\n",
    "print(df.head())"
   ]
  },
  {
   "cell_type": "code",
   "execution_count": 3,
   "id": "4defdc4e",
   "metadata": {},
   "outputs": [
    {
     "name": "stdout",
     "output_type": "stream",
     "text": [
      "[[ 0.48156617 -0.0785411  -0.3892097   0.3706467  -0.26293336  1.04028177\n",
      "   0.26638133  0.59254366 -0.22967867 -0.3518665  -0.1244341   0.10974633\n",
      "   0.12252316 -0.86905588  3.68394199]\n",
      " [-0.55302131 -0.11819655  0.43901357 -0.3915373   0.64865388 -0.64857561\n",
      "  -0.31314071 -0.72258411 -0.22967867  1.30345037 -0.53283777 -0.21700111\n",
      "  -0.08331516  0.93232482 -0.27144836]\n",
      " [ 0.19331153  0.11254172  0.49176317 -0.11108467 -0.4021624   0.48060535\n",
      "   0.11224508  0.68494676 -0.22967867 -0.4043999  -0.38680252 -0.49044933\n",
      "   0.28634173 -0.6504704  -0.27144836]\n",
      " [-0.28514501 -0.22289073  0.38979737 -0.24941371  0.59361984 -0.35963476\n",
      "  -0.33689628 -0.65012631 -0.22967867 -0.48188667  1.87674385 -0.29312056\n",
      "   0.12520402  0.56337665 -0.27144836]\n",
      " [ 0.13950643  0.15882508  0.1834663   0.11705642  0.43550006  0.14239007\n",
      "  -0.01755098 -0.55775599  4.35390879 -0.48188667 -0.53283777 -0.05055438\n",
      "   0.35443676  0.00908754  0.07249863]\n",
      " [ 0.15691396 -0.05540576 -2.04754908  0.74714481 -0.6913999  -0.19649959\n",
      "   0.37159267  0.17536643 -0.22967867 -0.43174817 -0.10761748 -0.39125733\n",
      "  -0.28883075 -0.3344215  -0.27144836]\n",
      " [ 0.57680591  0.29614912 -0.36449407  0.37852694 -0.58802728  0.30588754\n",
      "   0.32717429  0.56981285 -0.22967867 -0.35075522 -0.12094347  2.03894663\n",
      "  -0.50747832 -0.43748967 -0.27144836]]\n"
     ]
    }
   ],
   "source": [
    "kmeans = KMeans(n_clusters=7, random_state=rng).fit(df_X, df_y)\n",
    "print(kmeans.cluster_centers_)"
   ]
  },
  {
   "cell_type": "code",
   "execution_count": 4,
   "id": "dcab8062",
   "metadata": {},
   "outputs": [],
   "source": [
    "class ClusterProjectionDataset(torch.utils.data.Dataset):\n",
    "    def __init__(self, x1, x2):\n",
    "        super().__init__()\n",
    "        self.x1 = x2\n",
    "        self.x2 = x2\n",
    "        \n",
    "#         self.kmeans = kmeans\n",
    "        \n",
    "#         nclusters = len(kmeans.cluster_centers_)\n",
    "        \n",
    "#         clusters = torch.as_tensor(kmeans.cluster_centers_).float()\n",
    "        \n",
    "#         arr = []\n",
    "#         for i in range(nclusters):\n",
    "#             tgt = torch.tile(clusters[i], (len(self.x), 1))\n",
    "#             arr.append(F.pairwise_distance(self.x, tgt))\n",
    "#         self.y = torch.cat(arr)\n",
    "#         self.x = torch.tile(self.x, (nclusters, 1))\n",
    "                \n",
    "    def __getitem__(self, i):\n",
    "        return self.x1[i // self.x2.shape[0]], self.x2[i % self.x2.shape[0]]\n",
    "    \n",
    "    def __len__(self):\n",
    "        return self.x1.shape[0] * self.x2.shape[0]"
   ]
  },
  {
   "cell_type": "code",
   "execution_count": 5,
   "id": "b3809673",
   "metadata": {
    "scrolled": false
   },
   "outputs": [],
   "source": [
    "class ClusterProjector2D(pl.LightningModule):\n",
    "    def __init__(self, in_features, hidden_layer_size=1024):\n",
    "        super().__init__()\n",
    "        self.nn = nn.Sequential(\n",
    "            nn.Linear(in_features, hidden_layer_size), \n",
    "            nn.ReLU(), \n",
    "            nn.Linear(hidden_layer_size, hidden_layer_size), \n",
    "            nn.ReLU(),\n",
    "            nn.Linear(hidden_layer_size, 2)\n",
    "        )\n",
    "\n",
    "    def training_step(self, batch, batch_idx):\n",
    "        x1, x2 = batch\n",
    "        y = F.pairwise_distance(x1, x2)\n",
    "        \n",
    "        y1_pred = self.nn(x1)\n",
    "        y2_pred = self.nn(x2)\n",
    "        y_pred = F.pairwise_distance(y1_pred, y2_pred)\n",
    "        return F.mse_loss(y_pred, y)\n",
    "        \n",
    "\n",
    "    def configure_optimizers(self):\n",
    "        optimizer = torch.optim.Adam(self.parameters())\n",
    "        return optimizer"
   ]
  },
  {
   "cell_type": "code",
   "execution_count": 6,
   "id": "556ec494",
   "metadata": {},
   "outputs": [
    {
     "name": "stderr",
     "output_type": "stream",
     "text": [
      "GPU available: True (cuda), used: False\n",
      "TPU available: False, using: 0 TPU cores\n",
      "IPU available: False, using: 0 IPUs\n",
      "HPU available: False, using: 0 HPUs\n",
      "/home/ec2-user/anaconda3/envs/pytorch_p38/lib/python3.8/site-packages/pytorch_lightning/trainer/trainer.py:1764: PossibleUserWarning: GPU available but not used. Set `accelerator` and `devices` using `Trainer(accelerator='gpu', devices=1)`.\n",
      "  rank_zero_warn(\n"
     ]
    }
   ],
   "source": [
    "clusters = torch.as_tensor(kmeans.cluster_centers_).float()\n",
    "x1 = torch.as_tensor(df_X.values).float()\n",
    "x1 = torch.cat([x1, clusters])\n",
    "x2 = x1\n",
    "#x2 = clusters\n",
    "\n",
    "\n",
    "dataset = ClusterProjectionDataset(x1, x2)\n",
    "train_loader = torch.utils.data.DataLoader(dataset, batch_size=128, num_workers=8)\n",
    "\n",
    "trainer = pl.Trainer(max_epochs=100)\n",
    "projector = ClusterProjector2D(kmeans.n_features_in_)"
   ]
  },
  {
   "cell_type": "code",
   "execution_count": 7,
   "id": "0e4adb66",
   "metadata": {},
   "outputs": [
    {
     "name": "stderr",
     "output_type": "stream",
     "text": [
      "\n",
      "  | Name | Type       | Params\n",
      "------------------------------------\n",
      "0 | nn   | Sequential | 1.1 M \n",
      "------------------------------------\n",
      "1.1 M     Trainable params\n",
      "0         Non-trainable params\n",
      "1.1 M     Total params\n",
      "4.272     Total estimated model params size (MB)\n"
     ]
    },
    {
     "data": {
      "application/vnd.jupyter.widget-view+json": {
       "model_id": "2a6109378914408c9ab8adde1aae88bc",
       "version_major": 2,
       "version_minor": 0
      },
      "text/plain": [
       "Training: 0it [00:00, ?it/s]"
      ]
     },
     "metadata": {},
     "output_type": "display_data"
    },
    {
     "name": "stderr",
     "output_type": "stream",
     "text": [
      "/home/ec2-user/anaconda3/envs/pytorch_p38/lib/python3.8/site-packages/pytorch_lightning/trainer/trainer.py:653: UserWarning: Detected KeyboardInterrupt, attempting graceful shutdown...\n",
      "  rank_zero_warn(\"Detected KeyboardInterrupt, attempting graceful shutdown...\")\n"
     ]
    }
   ],
   "source": [
    "trainer.fit(model=projector, train_dataloaders=train_loader)"
   ]
  },
  {
   "cell_type": "code",
   "execution_count": 8,
   "id": "452b78cc",
   "metadata": {},
   "outputs": [],
   "source": [
    "with torch.no_grad():\n",
    "    y1 = projector.nn(x1).numpy()\n",
    "    y2 = projector.nn(clusters).numpy()\n",
    "    \n",
    "cluster_indices = kmeans.predict(df_X)"
   ]
  },
  {
   "cell_type": "code",
   "execution_count": 11,
   "id": "e6b75219",
   "metadata": {},
   "outputs": [
    {
     "data": {
      "image/png": "[encoded data removed]",
      "text/plain": [
       "<Figure size 432x288 with 1 Axes>"
      ]
     },
     "metadata": {
      "needs_background": "light"
     },
     "output_type": "display_data"
    }
   ],
   "source": [
    "import matplotlib.cm as cm\n",
    "plt.figure()\n",
    "\n",
    "colors = ['g', 'b', 'c', 'm', 'y', 'k']\n",
    "\n",
    "#plt.scatter(y1[:, 0], y1[:, 1])\n",
    "\n",
    "for i in range(len(kmeans.cluster_centers_)):\n",
    "    indices = np.argwhere(cluster_indices == i).flatten()\n",
    "    yi = np.take(y1, indices, axis=0)\n",
    "    color = cm.nipy_spectral(float(i) / len(kmeans.cluster_centers_))\n",
    "    plt.scatter(yi[:, 0], yi[:, 1], color=color)\n",
    "\n",
    "plt.scatter(y2[:, 0], y2[:, 1], color='r')\n",
    "plt.show()"
   ]
  },
  {
   "cell_type": "code",
   "execution_count": 12,
   "id": "1ad1551d",
   "metadata": {},
   "outputs": [
    {
     "data": {
      "image/png": "[encoded data removed]",
      "text/plain": [
       "<Figure size 432x288 with 1 Axes>"
      ]
     },
     "metadata": {
      "needs_background": "light"
     },
     "output_type": "display_data"
    }
   ],
   "source": [
    "heart_disease_indices = np.argwhere(df_y.values == 0).flatten()\n",
    "no_heart_disease_indices = np.argwhere(df_y.values == 1).flatten()\n",
    "\n",
    "heart_disease = np.take(y1, heart_disease_indices, axis=0)\n",
    "no_heart_disease = np.take(y1, no_heart_disease_indices, axis=0)\n",
    "\n",
    "plt.figure()\n",
    "plt.scatter(no_heart_disease[:, 0], no_heart_disease[:, 1], color='b')\n",
    "plt.scatter(heart_disease[:, 0], heart_disease[:, 1], color='g')\n",
    "plt.scatter(y2[:, 0], y2[:, 1], color='r')\n",
    "plt.show()\n",
    "\n"
   ]
  },
  {
   "cell_type": "code",
   "execution_count": 24,
   "id": "64986bf0",
   "metadata": {},
   "outputs": [
    {
     "name": "stdout",
     "output_type": "stream",
     "text": [
      "<class 'list'>\n",
      "[[100, 103, 104, 108, 110, 111, 112, 114, 115, 116, 120, 124, 128, 132, 136, 137, 139, 140, 141, 143, 144, 145, 147, 148], [102, 105, 107, 109, 117, 118, 122, 125, 129, 130, 131, 135], [0, 1, 2, 3, 4, 6, 7, 8, 9, 11, 12, 13, 17, 22, 23, 24, 25, 26, 28, 29, 30, 34, 35, 37, 38, 39, 40, 41, 42, 43, 45, 47, 49], [5, 10, 14, 15, 16, 18, 19, 20, 21, 27, 31, 32, 33, 36, 44, 46, 48], [53, 57, 59, 60, 62, 64, 67, 69, 71, 79, 80, 81, 82, 84, 88, 89, 90, 92, 93, 94, 95, 96, 98, 99, 106], [50, 51, 52, 54, 55, 56, 58, 61, 63, 65, 66, 68, 70, 72, 73, 74, 75, 76, 77, 78, 83, 85, 86, 87, 91, 97, 101, 113, 119, 121, 123, 126, 127, 133, 134, 138, 142, 146, 149]]\n"
     ]
    },
    {
     "ename": "ValueError",
     "evalue": "The truth value of an array with more than one element is ambiguous. Use a.any() or a.all()",
     "output_type": "error",
     "traceback": [
      "\u001b[0;31m---------------------------------------------------------------------------\u001b[0m",
      "\u001b[0;31mValueError\u001b[0m                                Traceback (most recent call last)",
      "\u001b[0;32m/tmp/ipykernel_16642/2078008593.py\u001b[0m in \u001b[0;36m<cell line: 18>\u001b[0;34m()\u001b[0m\n\u001b[1;32m     16\u001b[0m \u001b[0mvisualizer\u001b[0m \u001b[0;34m=\u001b[0m \u001b[0mcluster_visualizer_multidim\u001b[0m\u001b[0;34m(\u001b[0m\u001b[0;34m)\u001b[0m\u001b[0;34m\u001b[0m\u001b[0;34m\u001b[0m\u001b[0m\n\u001b[1;32m     17\u001b[0m \u001b[0mvisualizer\u001b[0m\u001b[0;34m.\u001b[0m\u001b[0mappend_clusters\u001b[0m\u001b[0;34m(\u001b[0m\u001b[0mclusters\u001b[0m\u001b[0;34m,\u001b[0m \u001b[0msample_4d\u001b[0m\u001b[0;34m)\u001b[0m\u001b[0;34m\u001b[0m\u001b[0;34m\u001b[0m\u001b[0m\n\u001b[0;32m---> 18\u001b[0;31m \u001b[0mvisualizer\u001b[0m\u001b[0;34m.\u001b[0m\u001b[0mshow\u001b[0m\u001b[0;34m(\u001b[0m\u001b[0mmax_row_size\u001b[0m\u001b[0;34m=\u001b[0m\u001b[0;36m3\u001b[0m\u001b[0;34m)\u001b[0m\u001b[0;34m\u001b[0m\u001b[0;34m\u001b[0m\u001b[0m\n\u001b[0m",
      "\u001b[0;32m~/anaconda3/envs/pytorch_p38/lib/python3.8/site-packages/pyclustering/cluster/__init__.py\u001b[0m in \u001b[0;36mshow\u001b[0;34m(self, pair_filter, **kwargs)\u001b[0m\n\u001b[1;32m    204\u001b[0m             \u001b[0;32mraise\u001b[0m \u001b[0mValueError\u001b[0m\u001b[0;34m(\u001b[0m\u001b[0;34m\"There is no non-empty clusters for visualization.\"\u001b[0m\u001b[0;34m)\u001b[0m\u001b[0;34m\u001b[0m\u001b[0;34m\u001b[0m\u001b[0m\n\u001b[1;32m    205\u001b[0m \u001b[0;34m\u001b[0m\u001b[0m\n\u001b[0;32m--> 206\u001b[0;31m         \u001b[0mcluster_data\u001b[0m \u001b[0;34m=\u001b[0m \u001b[0mself\u001b[0m\u001b[0;34m.\u001b[0m\u001b[0m__clusters\u001b[0m\u001b[0;34m[\u001b[0m\u001b[0;36m0\u001b[0m\u001b[0;34m]\u001b[0m\u001b[0;34m.\u001b[0m\u001b[0mdata\u001b[0m \u001b[0;32mor\u001b[0m \u001b[0mself\u001b[0m\u001b[0;34m.\u001b[0m\u001b[0m__clusters\u001b[0m\u001b[0;34m[\u001b[0m\u001b[0;36m0\u001b[0m\u001b[0;34m]\u001b[0m\u001b[0;34m.\u001b[0m\u001b[0mcluster\u001b[0m\u001b[0;34m\u001b[0m\u001b[0;34m\u001b[0m\u001b[0m\n\u001b[0m\u001b[1;32m    207\u001b[0m         \u001b[0mdimension\u001b[0m \u001b[0;34m=\u001b[0m \u001b[0mlen\u001b[0m\u001b[0;34m(\u001b[0m\u001b[0mcluster_data\u001b[0m\u001b[0;34m[\u001b[0m\u001b[0;36m0\u001b[0m\u001b[0;34m]\u001b[0m\u001b[0;34m)\u001b[0m\u001b[0;34m\u001b[0m\u001b[0;34m\u001b[0m\u001b[0m\n\u001b[1;32m    208\u001b[0m \u001b[0;34m\u001b[0m\u001b[0m\n",
      "\u001b[0;31mValueError\u001b[0m: The truth value of an array with more than one element is ambiguous. Use a.any() or a.all()"
     ]
    }
   ],
   "source": [
    "from pyclustering.utils import read_sample\n",
    "from pyclustering.samples.definitions import FAMOUS_SAMPLES\n",
    "from pyclustering.cluster import cluster_visualizer_multidim\n",
    "from pyclustering.cluster.xmeans import xmeans\n",
    "# load 4D data sample 'Iris'\n",
    "sample_4d = read_sample(FAMOUS_SAMPLES.SAMPLE_IRIS)\n",
    "# initialize 3 initial centers using K-Means++ algorithm\n",
    "centers = kmeans_plusplus_initializer(sample_4d, 3).initialize()\n",
    "# performs cluster analysis using X-Means\n",
    "xmeans_instance = xmeans(sample_4d, centers)\n",
    "xmeans_instance.process()\n",
    "clusters = xmeans_instance.get_clusters()\n",
    "print(type(clusters))\n",
    "print(clusters)\n",
    "# visualize obtained clusters in multi-dimensional space\n",
    "visualizer = cluster_visualizer_multidim()\n",
    "visualizer.append_clusters(clusters, sample_4d)\n",
    "visualizer.show(max_row_size=3)"
   ]
  },
  {
   "cell_type": "code",
   "execution_count": null,
   "id": "9fb4217a",
   "metadata": {},
   "outputs": [],
   "source": []
  }
 ],
 "metadata": {
  "kernelspec": {
   "display_name": "conda_pytorch_p38",
   "language": "python",
   "name": "conda_pytorch_p38"
  },
  "language_info": {
   "codemirror_mode": {
    "name": "ipython",
    "version": 3
   },
   "file_extension": ".py",
   "mimetype": "text/x-python",
   "name": "python",
   "nbconvert_exporter": "python",
   "pygments_lexer": "ipython3",
   "version": "3.8.12"
  }
 },
 "nbformat": 4,
 "nbformat_minor": 5
}
